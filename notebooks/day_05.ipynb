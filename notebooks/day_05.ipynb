{
 "cells": [
  {
   "cell_type": "code",
   "execution_count": 1,
   "metadata": {},
   "outputs": [],
   "source": [
    "import json\n",
    "import pandas as pd\n"
   ]
  },
  {
   "cell_type": "code",
   "execution_count": 2,
   "metadata": {},
   "outputs": [],
   "source": [
    "with open('../data/day_05.json', 'r') as data_file:\n",
    "    json_data = data_file.read()\n",
    "\n",
    "instance_json = json.loads(json_data)\n"
   ]
  },
  {
   "cell_type": "code",
   "execution_count": 3,
   "metadata": {},
   "outputs": [],
   "source": [
    "def json_to_df(instance):\n",
    "    mapping = pd.DataFrame(instance,\n",
    "                                columns=['destination_start', 'source_start', 'range_length']\n",
    "                                ).sort_values(by='source_start', ascending=True).reset_index(drop=True)\n",
    "    return mapping\n"
   ]
  },
  {
   "cell_type": "code",
   "execution_count": 4,
   "metadata": {},
   "outputs": [],
   "source": [
    "seed_to_soil_map = json_to_df(instance_json['seed-to-soil-map'])\n",
    "soil_to_fertilizer_map = json_to_df(instance_json['soil-to-fertilizer-map'])\n",
    "fertilizer_to_water_map = json_to_df(instance_json['fertilizer-to-water-map'])\n",
    "water_to_light_map = json_to_df(instance_json['water-to-light-map'])\n",
    "light_to_temperature_map = json_to_df(instance_json['light-to-temperature-map'])\n",
    "temperature_to_humidity_map = json_to_df(instance_json['temperature-to-humidity-map'])\n",
    "humidity_to_location_map = json_to_df(instance_json['humidity-to-location-map'])\n"
   ]
  },
  {
   "cell_type": "markdown",
   "metadata": {},
   "source": [
    "# Part 1"
   ]
  },
  {
   "cell_type": "code",
   "execution_count": 5,
   "metadata": {},
   "outputs": [
    {
     "data": {
      "text/plain": [
       "[564468486,\n",
       " 226119074,\n",
       " 3264322485,\n",
       " 135071952,\n",
       " 3144185610,\n",
       " 89794463,\n",
       " 1560365167,\n",
       " 555667043,\n",
       " 2419038624,\n",
       " 7808461,\n",
       " 1264209624,\n",
       " 9380035,\n",
       " 105823719,\n",
       " 425973940,\n",
       " 4115473551,\n",
       " 104486997,\n",
       " 3784956593,\n",
       " 300187503,\n",
       " 975280918,\n",
       " 257129208]"
      ]
     },
     "execution_count": 5,
     "metadata": {},
     "output_type": "execute_result"
    }
   ],
   "source": [
    "seeds = instance_json['seeds']\n",
    "seeds\n"
   ]
  },
  {
   "cell_type": "code",
   "execution_count": 6,
   "metadata": {},
   "outputs": [],
   "source": [
    "def get_mapping(in_values, in_to_out_map):\n",
    "    out = in_values.copy()\n",
    "\n",
    "    for i in range(len(in_to_out_map)):\n",
    "        destination_start = in_to_out_map.loc[i, 'destination_start']\n",
    "        source_start = in_to_out_map.loc[i, 'source_start']\n",
    "        range_length = in_to_out_map.loc[i, 'range_length']\n",
    "\n",
    "        for i, seed in enumerate(in_values):\n",
    "            if seed >= source_start and seed <= source_start + range_length:\n",
    "                difference = seed - source_start\n",
    "                out_value = destination_start + difference\n",
    "                out[i] = (out_value)\n",
    "\n",
    "    return out\n"
   ]
  },
  {
   "cell_type": "code",
   "execution_count": 7,
   "metadata": {},
   "outputs": [],
   "source": [
    "soil = get_mapping(seeds, seed_to_soil_map)\n",
    "fertilizer = get_mapping(soil, soil_to_fertilizer_map)\n",
    "water = get_mapping(fertilizer, fertilizer_to_water_map)\n",
    "light = get_mapping(water, water_to_light_map)\n",
    "temperature = get_mapping(light, light_to_temperature_map)\n",
    "humidity = get_mapping(temperature, temperature_to_humidity_map)\n",
    "location = get_mapping(humidity, humidity_to_location_map)\n"
   ]
  },
  {
   "cell_type": "code",
   "execution_count": 8,
   "metadata": {},
   "outputs": [
    {
     "data": {
      "text/plain": [
       "340994526"
      ]
     },
     "execution_count": 8,
     "metadata": {},
     "output_type": "execute_result"
    }
   ],
   "source": [
    "result = min(location)\n",
    "result\n"
   ]
  },
  {
   "cell_type": "markdown",
   "metadata": {},
   "source": [
    "# Part 2"
   ]
  },
  {
   "cell_type": "markdown",
   "metadata": {},
   "source": [
    "## Work in Progress"
   ]
  },
  {
   "cell_type": "code",
   "execution_count": 9,
   "metadata": {},
   "outputs": [
    {
     "data": {
      "text/plain": [
       "[[564468486, 226119074],\n",
       " [3264322485, 135071952],\n",
       " [3144185610, 89794463],\n",
       " [1560365167, 555667043],\n",
       " [2419038624, 7808461],\n",
       " [1264209624, 9380035],\n",
       " [105823719, 425973940],\n",
       " [4115473551, 104486997],\n",
       " [3784956593, 300187503],\n",
       " [975280918, 257129208]]"
      ]
     },
     "execution_count": 9,
     "metadata": {},
     "output_type": "execute_result"
    }
   ],
   "source": [
    "temp_seeds = instance_json['seeds']\n",
    "\n",
    "def divide_chunks(list, n):\n",
    "\n",
    "    # looping till length l\n",
    "    for i in range(0, len(list), n):\n",
    "        yield list[i:i + n]\n",
    "\n",
    "\n",
    "n = int(len(temp_seeds) / (len(temp_seeds) / 2))\n",
    "\n",
    "temp_seeds = list(divide_chunks(temp_seeds, n))\n",
    "temp_seeds\n"
   ]
  },
  {
   "cell_type": "code",
   "execution_count": 10,
   "metadata": {},
   "outputs": [
    {
     "data": {
      "text/plain": [
       "1"
      ]
     },
     "execution_count": 10,
     "metadata": {},
     "output_type": "execute_result"
    }
   ],
   "source": [
    "len(temp_seeds[0:1])\n"
   ]
  },
  {
   "cell_type": "code",
   "execution_count": 11,
   "metadata": {},
   "outputs": [],
   "source": [
    "##### Kernel crashes on execute due to memory overload #####\n",
    "\n",
    "# def generate_seeds(start, range_val):\n",
    "#     current = start\n",
    "#     count = 0\n",
    "#     while count < range_val:\n",
    "#         yield current\n",
    "#         current += 1\n",
    "#         count += 1\n",
    "\n",
    "# # Generating seeds2\n",
    "# seeds2 = []\n",
    "# for start, range_val in temp_seeds:\n",
    "#     seeds2.extend(generate_seeds(start, range_val))\n",
    "\n",
    "# seeds2[:10]\n"
   ]
  },
  {
   "cell_type": "code",
   "execution_count": 12,
   "metadata": {},
   "outputs": [],
   "source": [
    "def get_mapping2(in_values, in_to_out_map):\n",
    "    out = in_values.copy()\n",
    "\n",
    "    for i in range(len(in_to_out_map)):\n",
    "        destination_start = in_to_out_map.loc[i, 'destination_start']\n",
    "        source_start = in_to_out_map.loc[i, 'source_start']\n",
    "        range_length = in_to_out_map.loc[i, 'range_length']\n",
    "\n",
    "        for i, seed in enumerate(in_values):\n",
    "            if seed >= source_start and seed <= source_start + range_length:\n",
    "                difference = seed - source_start\n",
    "                out_value = destination_start + difference\n",
    "                out[i] = (out_value)\n",
    "\n",
    "    return out\n"
   ]
  },
  {
   "cell_type": "code",
   "execution_count": null,
   "metadata": {},
   "outputs": [],
   "source": []
  }
 ],
 "metadata": {
  "kernelspec": {
   "display_name": "aoc2023",
   "language": "python",
   "name": "python3"
  },
  "language_info": {
   "codemirror_mode": {
    "name": "ipython",
    "version": 3
   },
   "file_extension": ".py",
   "mimetype": "text/x-python",
   "name": "python",
   "nbconvert_exporter": "python",
   "pygments_lexer": "ipython3",
   "version": "3.10.6"
  }
 },
 "nbformat": 4,
 "nbformat_minor": 2
}
