{
 "cells": [
  {
   "cell_type": "code",
   "execution_count": 1,
   "metadata": {},
   "outputs": [],
   "source": [
    "import json\n",
    "import pandas as pd\n"
   ]
  },
  {
   "cell_type": "code",
   "execution_count": 148,
   "metadata": {},
   "outputs": [],
   "source": [
    "with open('../data/day_05.json', 'r') as data_file:\n",
    "    json_data = data_file.read()\n",
    "\n",
    "instance_json = json.loads(json_data)\n"
   ]
  },
  {
   "cell_type": "code",
   "execution_count": 149,
   "metadata": {},
   "outputs": [],
   "source": [
    "seeds = instance_json['seeds']\n"
   ]
  },
  {
   "cell_type": "code",
   "execution_count": 150,
   "metadata": {},
   "outputs": [],
   "source": [
    "def json_to_df(instance):\n",
    "    mapping = pd.DataFrame(instance,\n",
    "                                columns=['destination_start', 'source_start', 'range_length']\n",
    "                                ).sort_values(by='source_start', ascending=True).reset_index(drop=True)\n",
    "    return mapping\n"
   ]
  },
  {
   "cell_type": "code",
   "execution_count": 152,
   "metadata": {},
   "outputs": [],
   "source": [
    "seed_to_soil_map = json_to_df(instance_json['seed-to-soil-map'])\n",
    "soil_to_fertilizer_map = json_to_df(instance_json['soil-to-fertilizer-map'])\n",
    "fertilizer_to_water_map = json_to_df(instance_json['fertilizer-to-water-map'])\n",
    "water_to_light_map = json_to_df(instance_json['water-to-light-map'])\n",
    "light_to_temperature_map = json_to_df(instance_json['light-to-temperature-map'])\n",
    "temperature_to_humidity_map = json_to_df(instance_json['temperature-to-humidity-map'])\n",
    "humidity_to_location_map = json_to_df(instance_json['humidity-to-location-map'])\n"
   ]
  },
  {
   "cell_type": "code",
   "execution_count": 155,
   "metadata": {},
   "outputs": [],
   "source": [
    "def get_mapping(in_values, in_to_out_map):\n",
    "    out = in_values.copy()\n",
    "\n",
    "    for i in range(len(in_to_out_map)):\n",
    "        destination_start = in_to_out_map.loc[i, 'destination_start']\n",
    "        source_start = in_to_out_map.loc[i, 'source_start']\n",
    "        range_length = in_to_out_map.loc[i, 'range_length']\n",
    "\n",
    "        for i, seed in enumerate(in_values):\n",
    "            if seed >= source_start and seed <= source_start + range_length:\n",
    "                difference = seed - source_start\n",
    "                out_value = destination_start + difference\n",
    "                out[i] = (out_value)\n",
    "\n",
    "    return out\n"
   ]
  },
  {
   "cell_type": "code",
   "execution_count": 157,
   "metadata": {},
   "outputs": [],
   "source": [
    "soil = get_mapping(seeds, seed_to_soil_map)\n",
    "fertilizer = get_mapping(soil, soil_to_fertilizer_map)\n",
    "water = get_mapping(fertilizer, fertilizer_to_water_map)\n",
    "light = get_mapping(water, water_to_light_map)\n",
    "temperature = get_mapping(light, light_to_temperature_map)\n",
    "humidity = get_mapping(temperature, temperature_to_humidity_map)\n",
    "location = get_mapping(humidity, humidity_to_location_map)\n"
   ]
  },
  {
   "cell_type": "code",
   "execution_count": 160,
   "metadata": {},
   "outputs": [
    {
     "data": {
      "text/plain": [
       "340994526"
      ]
     },
     "execution_count": 160,
     "metadata": {},
     "output_type": "execute_result"
    }
   ],
   "source": [
    "result = min(location)\n",
    "result\n"
   ]
  }
 ],
 "metadata": {
  "kernelspec": {
   "display_name": "aoc2023",
   "language": "python",
   "name": "python3"
  },
  "language_info": {
   "codemirror_mode": {
    "name": "ipython",
    "version": 3
   },
   "file_extension": ".py",
   "mimetype": "text/x-python",
   "name": "python",
   "nbconvert_exporter": "python",
   "pygments_lexer": "ipython3",
   "version": "3.10.6"
  }
 },
 "nbformat": 4,
 "nbformat_minor": 2
}
