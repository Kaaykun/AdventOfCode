{
 "cells": [
  {
   "cell_type": "code",
   "execution_count": 46,
   "metadata": {},
   "outputs": [],
   "source": [
    "import json\n",
    "import pandas as pd\n"
   ]
  },
  {
   "cell_type": "code",
   "execution_count": 47,
   "metadata": {},
   "outputs": [],
   "source": [
    "with open('../data/day_06.json', 'r') as data_file:\n",
    "    json_data = data_file.read()\n",
    "\n",
    "instance_json = json.loads(json_data)\n"
   ]
  },
  {
   "cell_type": "code",
   "execution_count": 48,
   "metadata": {},
   "outputs": [
    {
     "data": {
      "text/html": [
       "<div>\n",
       "<style scoped>\n",
       "    .dataframe tbody tr th:only-of-type {\n",
       "        vertical-align: middle;\n",
       "    }\n",
       "\n",
       "    .dataframe tbody tr th {\n",
       "        vertical-align: top;\n",
       "    }\n",
       "\n",
       "    .dataframe thead th {\n",
       "        text-align: right;\n",
       "    }\n",
       "</style>\n",
       "<table border=\"1\" class=\"dataframe\">\n",
       "  <thead>\n",
       "    <tr style=\"text-align: right;\">\n",
       "      <th></th>\n",
       "      <th>time</th>\n",
       "      <th>distance</th>\n",
       "    </tr>\n",
       "  </thead>\n",
       "  <tbody>\n",
       "    <tr>\n",
       "      <th>0</th>\n",
       "      <td>59</td>\n",
       "      <td>543</td>\n",
       "    </tr>\n",
       "    <tr>\n",
       "      <th>1</th>\n",
       "      <td>68</td>\n",
       "      <td>1020</td>\n",
       "    </tr>\n",
       "    <tr>\n",
       "      <th>2</th>\n",
       "      <td>82</td>\n",
       "      <td>1664</td>\n",
       "    </tr>\n",
       "    <tr>\n",
       "      <th>3</th>\n",
       "      <td>74</td>\n",
       "      <td>1022</td>\n",
       "    </tr>\n",
       "  </tbody>\n",
       "</table>\n",
       "</div>"
      ],
      "text/plain": [
       "   time  distance\n",
       "0    59       543\n",
       "1    68      1020\n",
       "2    82      1664\n",
       "3    74      1022"
      ]
     },
     "execution_count": 48,
     "metadata": {},
     "output_type": "execute_result"
    }
   ],
   "source": [
    "df = pd.DataFrame(instance_json, columns=['time', 'distance'])\n",
    "df\n"
   ]
  },
  {
   "cell_type": "markdown",
   "metadata": {},
   "source": [
    "# Part 1"
   ]
  },
  {
   "cell_type": "code",
   "execution_count": 49,
   "metadata": {},
   "outputs": [],
   "source": [
    "def find_possible_holding_times(time, distance):\n",
    "    possible_holding_times = []\n",
    "\n",
    "    for wait_time in range(time + 1):\n",
    "        current_speed = wait_time\n",
    "        current_time = time - wait_time\n",
    "        current_distance = current_time * current_speed\n",
    "\n",
    "        if current_distance > distance:\n",
    "            possible_holding_times.append(wait_time)\n",
    "\n",
    "    return possible_holding_times\n"
   ]
  },
  {
   "cell_type": "code",
   "execution_count": 50,
   "metadata": {},
   "outputs": [
    {
     "name": "stdout",
     "output_type": "stream",
     "text": [
      "Number of ways to beat the record in row 0: 36\n",
      "Number of ways to beat the record in row 1: 23\n",
      "Number of ways to beat the record in row 2: 9\n",
      "Number of ways to beat the record in row 3: 37\n"
     ]
    },
    {
     "data": {
      "text/plain": [
       "275724"
      ]
     },
     "execution_count": 50,
     "metadata": {},
     "output_type": "execute_result"
    }
   ],
   "source": [
    "ways_to_beat = []\n",
    "\n",
    "for i, row in df.iterrows():\n",
    "    time = row['time']\n",
    "    distance = row['distance']\n",
    "\n",
    "    ways_per_row = len(find_possible_holding_times(time, distance))\n",
    "    print(f'Number of ways to beat the record in row {i}: {ways_per_row}')\n",
    "    ways_to_beat.append(ways_per_row)\n",
    "\n",
    "result = 1\n",
    "for x in ways_to_beat:\n",
    "    result = result * x\n",
    "\n",
    "result\n"
   ]
  },
  {
   "cell_type": "markdown",
   "metadata": {},
   "source": [
    "# Part 2"
   ]
  },
  {
   "cell_type": "code",
   "execution_count": 51,
   "metadata": {},
   "outputs": [
    {
     "name": "stdout",
     "output_type": "stream",
     "text": [
      "59688274 543102016641022\n"
     ]
    }
   ],
   "source": [
    "time = int(''.join(map(str, instance_json['time'])))\n",
    "distance = int(''.join(map(str, instance_json['distance'])))\n",
    "print(time, distance)\n"
   ]
  },
  {
   "cell_type": "code",
   "execution_count": 52,
   "metadata": {},
   "outputs": [],
   "source": [
    "def find_possible_holding_times2(time, distance):\n",
    "    max_speed = distance / time\n",
    "    max_waiting_time = min(time, max_speed)\n",
    "    possible_holding_times = max_waiting_time + 1  # Add 1 to include 0 as a possible wait time\n",
    "    return possible_holding_times\n"
   ]
  },
  {
   "cell_type": "code",
   "execution_count": 53,
   "metadata": {},
   "outputs": [
    {
     "data": {
      "text/plain": [
       "37286485"
      ]
     },
     "execution_count": 53,
     "metadata": {},
     "output_type": "execute_result"
    }
   ],
   "source": [
    "result2 = len(find_possible_holding_times(time, distance))\n",
    "result2\n"
   ]
  }
 ],
 "metadata": {
  "kernelspec": {
   "display_name": "aoc2023",
   "language": "python",
   "name": "python3"
  },
  "language_info": {
   "codemirror_mode": {
    "name": "ipython",
    "version": 3
   },
   "file_extension": ".py",
   "mimetype": "text/x-python",
   "name": "python",
   "nbconvert_exporter": "python",
   "pygments_lexer": "ipython3",
   "version": "3.10.6"
  }
 },
 "nbformat": 4,
 "nbformat_minor": 2
}
