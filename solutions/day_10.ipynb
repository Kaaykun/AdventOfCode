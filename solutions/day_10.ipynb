{
 "cells": [
  {
   "cell_type": "markdown",
   "metadata": {},
   "source": [
    "# Work in Progress"
   ]
  },
  {
   "cell_type": "code",
   "execution_count": 147,
   "metadata": {},
   "outputs": [],
   "source": [
    "with open('../data/day_10.txt') as f:\n",
    "    lines = f.read().strip().split('\\n')\n",
    "    lines = [line.split(': ') for line in lines]\n",
    "    lines = [list(line[0]) for line in lines]\n"
   ]
  },
  {
   "cell_type": "code",
   "execution_count": 152,
   "metadata": {},
   "outputs": [
    {
     "data": {
      "text/plain": [
       "(140, 140)"
      ]
     },
     "execution_count": 152,
     "metadata": {},
     "output_type": "execute_result"
    }
   ],
   "source": [
    "import numpy as np\n",
    "\n",
    "result = np.full((len(lines),len(lines)), 99)\n",
    "result.shape"
   ]
  },
  {
   "cell_type": "markdown",
   "metadata": {},
   "source": [
    "| is a vertical pipe connecting north and south. <br>\n",
    "\\- is a horizontal pipe connecting east and west.<br>\n",
    "L is a 90-degree bend connecting north and east.<br>\n",
    "J is a 90-degree bend connecting north and west.<br>\n",
    "7 is a 90-degree bend connecting south and west.<br>\n",
    "F is a 90-degree bend connecting south and east.<br>\n",
    ". is ground; there is no pipe in this tile.<br>\n",
    "S is the starting position of the animal; there is a pipe on this tile, but your sketch doesn't show what shape the pipe has.\n",
    "\n"
   ]
  },
  {
   "cell_type": "code",
   "execution_count": 153,
   "metadata": {},
   "outputs": [
    {
     "ename": "IndexError",
     "evalue": "list index out of range",
     "output_type": "error",
     "traceback": [
      "\u001b[0;31m---------------------------------------------------------------------------\u001b[0m",
      "\u001b[0;31mIndexError\u001b[0m                                Traceback (most recent call last)",
      "\u001b[1;32m/home/jarisfenner/code/Kaaykun/aoc2023/solutions/day_10.ipynb Cell 4\u001b[0m line \u001b[0;36m3\n\u001b[1;32m      <a href='vscode-notebook-cell://wsl%2Bubuntu/home/jarisfenner/code/Kaaykun/aoc2023/solutions/day_10.ipynb#W6sdnNjb2RlLXJlbW90ZQ%3D%3D?line=0'>1</a>\u001b[0m counter \u001b[39m=\u001b[39m \u001b[39m0\u001b[39m\n\u001b[1;32m      <a href='vscode-notebook-cell://wsl%2Bubuntu/home/jarisfenner/code/Kaaykun/aoc2023/solutions/day_10.ipynb#W6sdnNjb2RlLXJlbW90ZQ%3D%3D?line=1'>2</a>\u001b[0m start_row \u001b[39m=\u001b[39m [index \u001b[39mfor\u001b[39;00m index, inner_list \u001b[39min\u001b[39;00m \u001b[39menumerate\u001b[39m(lines) \u001b[39mif\u001b[39;00m \u001b[39many\u001b[39m(\u001b[39m'\u001b[39m\u001b[39mS\u001b[39m\u001b[39m'\u001b[39m \u001b[39min\u001b[39;00m string \u001b[39mfor\u001b[39;00m string \u001b[39min\u001b[39;00m inner_list)][\u001b[39m0\u001b[39m]\n\u001b[0;32m----> <a href='vscode-notebook-cell://wsl%2Bubuntu/home/jarisfenner/code/Kaaykun/aoc2023/solutions/day_10.ipynb#W6sdnNjb2RlLXJlbW90ZQ%3D%3D?line=2'>3</a>\u001b[0m start_index \u001b[39m=\u001b[39m [index \u001b[39mfor\u001b[39;49;00m index, char \u001b[39min\u001b[39;49;00m \u001b[39menumerate\u001b[39;49m(lines[start_row][\u001b[39m0\u001b[39;49m]) \u001b[39mif\u001b[39;49;00m char \u001b[39m==\u001b[39;49m \u001b[39m'\u001b[39;49m\u001b[39mS\u001b[39;49m\u001b[39m'\u001b[39;49m][\u001b[39m0\u001b[39;49m]\n\u001b[1;32m      <a href='vscode-notebook-cell://wsl%2Bubuntu/home/jarisfenner/code/Kaaykun/aoc2023/solutions/day_10.ipynb#W6sdnNjb2RlLXJlbW90ZQ%3D%3D?line=4'>5</a>\u001b[0m \u001b[39mwhile\u001b[39;00m lines[start_row][\u001b[39m0\u001b[39m][start_index] \u001b[39m!=\u001b[39m \u001b[39m99\u001b[39m:\n\u001b[1;32m      <a href='vscode-notebook-cell://wsl%2Bubuntu/home/jarisfenner/code/Kaaykun/aoc2023/solutions/day_10.ipynb#W6sdnNjb2RlLXJlbW90ZQ%3D%3D?line=5'>6</a>\u001b[0m     \u001b[39mprint\u001b[39m(lines[start_row][\u001b[39m0\u001b[39m][start_index])\n",
      "\u001b[0;31mIndexError\u001b[0m: list index out of range"
     ]
    }
   ],
   "source": [
    "counter = 0\n",
    "start_row = [index for index, inner_list in enumerate(lines) if any('S' in string for string in inner_list)][0]\n",
    "start_index = [index for index, char in enumerate(lines[start_row][0]) if char == 'S'][0]\n",
    "\n",
    "while lines[start_row][0][start_index] != 99:\n",
    "    print(lines[start_row][0][start_index])\n",
    "\n",
    "    if lines[start_row][0][start_index + 1] == '|':\n",
    "        result[start_row][start_index] = counter\n",
    "        if result[start_row - 1][start_index] != 99:\n",
    "            start_row += 1\n",
    "        else:\n",
    "            start_row -= 1\n",
    "        counter += 1\n",
    "\n",
    "    elif lines[start_row][0][start_index + 1] == '-':\n",
    "        result[start_row][start_index] = counter\n",
    "        if result[start_row][start_index - 1] == 99:\n",
    "            start_index += 1\n",
    "        else:\n",
    "            start_index -= 1\n",
    "        counter += 1\n",
    "\n",
    "    elif lines[start_row][0][start_index + 1] == 'L':\n",
    "        result[start_row][start_index] = counter\n",
    "        if result[start_row - 1][start_index] == 99:\n",
    "            start_index += 1\n",
    "        else:\n",
    "            start_row -= 1\n",
    "        counter += 1\n",
    "\n",
    "    elif lines[start_row][0][start_index + 1] == 'J':\n",
    "        result[start_row][start_index] = counter\n",
    "        if result[start_row - 1][start_index] == 99:\n",
    "            start_index -= 1\n",
    "        else:\n",
    "            start_row -= 1\n",
    "        counter += 1\n",
    "\n",
    "    elif lines[start_row][0][start_index + 1] == '7':\n",
    "        result[start_row][start_index] = counter\n",
    "        if result[start_row + 1][start_index] == 99:\n",
    "            start_index -= 1\n",
    "        else:\n",
    "            start_row += 1\n",
    "        counter += 1\n",
    "\n",
    "    elif lines[start_row][0][start_index + 1] == 'F':\n",
    "        result[start_row][start_index] = counter\n",
    "        if result[start_row + 1][start_index] == 99:\n",
    "            start_index += 1\n",
    "        else:\n",
    "            start_row += 1\n",
    "        counter += 1\n"
   ]
  },
  {
   "cell_type": "code",
   "execution_count": 154,
   "metadata": {},
   "outputs": [
    {
     "data": {
      "text/plain": [
       "array([[99, 99, 99, ..., 99, 99, 99],\n",
       "       [99, 99, 99, ..., 99, 99, 99],\n",
       "       [99, 99, 99, ..., 99, 99, 99],\n",
       "       ...,\n",
       "       [99, 99, 99, ..., 99, 99, 99],\n",
       "       [99, 99, 99, ..., 99, 99, 99],\n",
       "       [99, 99, 99, ..., 99, 99, 99]])"
      ]
     },
     "execution_count": 154,
     "metadata": {},
     "output_type": "execute_result"
    }
   ],
   "source": [
    "result"
   ]
  },
  {
   "cell_type": "code",
   "execution_count": null,
   "metadata": {},
   "outputs": [],
   "source": []
  }
 ],
 "metadata": {
  "kernelspec": {
   "display_name": "aoc2023",
   "language": "python",
   "name": "python3"
  },
  "language_info": {
   "codemirror_mode": {
    "name": "ipython",
    "version": 3
   },
   "file_extension": ".py",
   "mimetype": "text/x-python",
   "name": "python",
   "nbconvert_exporter": "python",
   "pygments_lexer": "ipython3",
   "version": "3.10.6"
  }
 },
 "nbformat": 4,
 "nbformat_minor": 2
}
