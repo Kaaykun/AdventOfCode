{
 "cells": [
  {
   "cell_type": "code",
   "execution_count": 105,
   "metadata": {},
   "outputs": [],
   "source": [
    "import numpy as np\n",
    "\n",
    "with open(\"../data/day_13.txt\", \"r\") as file:\n",
    "    data = file.read()\n",
    "puzzles = [i.split('\\n') for i in data.split('\\n\\n')]\n",
    "# Remove last empty row automatically added to .txt file\n",
    "puzzles[-1] = puzzles[-1][:-1]\n",
    "\n",
    "for p in range(0 , len(puzzles)):\n",
    "    for r in range(0, len(puzzles[p])):\n",
    "        puzzles[p][r] = puzzles[p][r].replace('.', '0')\n",
    "        puzzles[p][r] = puzzles[p][r].replace('#', '1')\n",
    "        puzzles[p][r] = [int(x) for x in puzzles[p][r]]\n",
    "    puzzles[p] = np.array(puzzles[p])\n"
   ]
  },
  {
   "cell_type": "code",
   "execution_count": 108,
   "metadata": {},
   "outputs": [],
   "source": [
    "def find_mirror_point(p, multiplier, part):\n",
    "    value = 0\n",
    "    for r in range(1, p.shape[0]):\n",
    "        block_size = min(p.shape[0] - r, r)\n",
    "        top_segment = p[r - block_size:r]\n",
    "        top_segment_flipped = np.flip(top_segment, axis=0)\n",
    "        bot_segment = p[r:r + block_size]\n",
    "        if part == 1:\n",
    "            if np.all(top_segment_flipped == bot_segment):\n",
    "                value = r * multiplier\n",
    "        if part == 2:\n",
    "            if list((top_segment_flipped == bot_segment).flatten()).count(False) == 1:\n",
    "                value = r * multiplier\n",
    "    return value"
   ]
  },
  {
   "cell_type": "code",
   "execution_count": 109,
   "metadata": {},
   "outputs": [
    {
     "name": "stdout",
     "output_type": "stream",
     "text": [
      "part:  29213\n",
      "part:  37453\n"
     ]
    }
   ],
   "source": [
    "parts = [1, 2]\n",
    "for part in parts:\n",
    "    point = 0\n",
    "    for p in puzzles:\n",
    "        point += find_mirror_point(p, 100, part)\n",
    "        point += find_mirror_point(np.rot90(p,-1), 1, part)\n",
    "    print(\"part: \", point)"
   ]
  },
  {
   "cell_type": "code",
   "execution_count": null,
   "metadata": {},
   "outputs": [],
   "source": []
  }
 ],
 "metadata": {
  "kernelspec": {
   "display_name": "aoc2023",
   "language": "python",
   "name": "python3"
  },
  "language_info": {
   "codemirror_mode": {
    "name": "ipython",
    "version": 3
   },
   "file_extension": ".py",
   "mimetype": "text/x-python",
   "name": "python",
   "nbconvert_exporter": "python",
   "pygments_lexer": "ipython3",
   "version": "3.10.6"
  }
 },
 "nbformat": 4,
 "nbformat_minor": 2
}
