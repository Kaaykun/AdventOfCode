{
 "cells": [
  {
   "cell_type": "markdown",
   "metadata": {},
   "source": [
    "# WIP - too complex for current skill"
   ]
  },
  {
   "cell_type": "code",
   "execution_count": 105,
   "metadata": {},
   "outputs": [
    {
     "data": {
      "text/plain": [
       "{0j: 2,\n",
       " (1+0j): 4,\n",
       " (2+0j): 1,\n",
       " (3+0j): 3,\n",
       " (4+0j): 4,\n",
       " (5+0j): 3,\n",
       " (6+0j): 2,\n",
       " (7+0j): 3,\n",
       " (8+0j): 1,\n",
       " (9+0j): 1,\n",
       " (10+0j): 3,\n",
       " (11+0j): 2,\n",
       " (12+0j): 3,\n",
       " 1j: 3,\n",
       " (1+1j): 2,\n",
       " (2+1j): 1,\n",
       " (3+1j): 5,\n",
       " (4+1j): 4,\n",
       " (5+1j): 5,\n",
       " (6+1j): 3,\n",
       " (7+1j): 5,\n",
       " (8+1j): 3,\n",
       " (9+1j): 5,\n",
       " (10+1j): 6,\n",
       " (11+1j): 2,\n",
       " (12+1j): 3,\n",
       " 2j: 3,\n",
       " (1+2j): 2,\n",
       " (2+2j): 5,\n",
       " (3+2j): 5,\n",
       " (4+2j): 2,\n",
       " (5+2j): 4,\n",
       " (6+2j): 5,\n",
       " (7+2j): 6,\n",
       " (8+2j): 5,\n",
       " (9+2j): 4,\n",
       " (10+2j): 2,\n",
       " (11+2j): 5,\n",
       " (12+2j): 4,\n",
       " 3j: 3,\n",
       " (1+3j): 4,\n",
       " (2+3j): 4,\n",
       " (3+3j): 6,\n",
       " (4+3j): 5,\n",
       " (5+3j): 8,\n",
       " (6+3j): 5,\n",
       " (7+3j): 8,\n",
       " (8+3j): 4,\n",
       " (9+3j): 5,\n",
       " (10+3j): 4,\n",
       " (11+3j): 5,\n",
       " (12+3j): 2,\n",
       " 4j: 4,\n",
       " (1+4j): 5,\n",
       " (2+4j): 4,\n",
       " (3+4j): 6,\n",
       " (4+4j): 6,\n",
       " (5+4j): 5,\n",
       " (6+4j): 7,\n",
       " (7+4j): 8,\n",
       " (8+4j): 6,\n",
       " (9+4j): 7,\n",
       " (10+4j): 5,\n",
       " (11+4j): 3,\n",
       " (12+4j): 6,\n",
       " 5j: 1,\n",
       " (1+5j): 4,\n",
       " (2+5j): 3,\n",
       " (3+5j): 8,\n",
       " (4+5j): 5,\n",
       " (5+5j): 9,\n",
       " (6+5j): 8,\n",
       " (7+5j): 7,\n",
       " (8+5j): 9,\n",
       " (9+5j): 8,\n",
       " (10+5j): 4,\n",
       " (11+5j): 5,\n",
       " (12+5j): 4,\n",
       " 6j: 4,\n",
       " (1+6j): 4,\n",
       " (2+6j): 5,\n",
       " (3+6j): 7,\n",
       " (4+6j): 8,\n",
       " (5+6j): 7,\n",
       " (6+6j): 6,\n",
       " (7+6j): 9,\n",
       " (8+6j): 8,\n",
       " (9+6j): 7,\n",
       " (10+6j): 7,\n",
       " (11+6j): 6,\n",
       " (12+6j): 6,\n",
       " 7j: 3,\n",
       " (1+7j): 6,\n",
       " (2+7j): 3,\n",
       " (3+7j): 7,\n",
       " (4+7j): 8,\n",
       " (5+7j): 7,\n",
       " (6+7j): 7,\n",
       " (7+7j): 9,\n",
       " (8+7j): 7,\n",
       " (9+7j): 9,\n",
       " (10+7j): 6,\n",
       " (11+7j): 5,\n",
       " (12+7j): 3,\n",
       " 8j: 4,\n",
       " (1+8j): 6,\n",
       " (2+8j): 5,\n",
       " (3+8j): 4,\n",
       " (4+8j): 9,\n",
       " (5+8j): 6,\n",
       " (6+8j): 7,\n",
       " (7+8j): 9,\n",
       " (8+8j): 8,\n",
       " (9+8j): 6,\n",
       " (10+8j): 8,\n",
       " (11+8j): 8,\n",
       " (12+8j): 7,\n",
       " 9j: 4,\n",
       " (1+9j): 5,\n",
       " (2+9j): 6,\n",
       " (3+9j): 4,\n",
       " (4+9j): 6,\n",
       " (5+9j): 7,\n",
       " (6+9j): 9,\n",
       " (7+9j): 9,\n",
       " (8+9j): 8,\n",
       " (9+9j): 6,\n",
       " (10+9j): 4,\n",
       " (11+9j): 5,\n",
       " (12+9j): 3,\n",
       " 10j: 1,\n",
       " (1+10j): 2,\n",
       " (2+10j): 2,\n",
       " (3+10j): 4,\n",
       " (4+10j): 6,\n",
       " (5+10j): 8,\n",
       " (6+10j): 6,\n",
       " (7+10j): 8,\n",
       " (8+10j): 6,\n",
       " (9+10j): 5,\n",
       " (10+10j): 5,\n",
       " (11+10j): 6,\n",
       " (12+10j): 3,\n",
       " 11j: 2,\n",
       " (1+11j): 5,\n",
       " (2+11j): 4,\n",
       " (3+11j): 6,\n",
       " (4+11j): 5,\n",
       " (5+11j): 4,\n",
       " (6+11j): 8,\n",
       " (7+11j): 8,\n",
       " (8+11j): 8,\n",
       " (9+11j): 7,\n",
       " (10+11j): 7,\n",
       " (11+11j): 3,\n",
       " (12+11j): 5,\n",
       " 12j: 4,\n",
       " (1+12j): 3,\n",
       " (2+12j): 2,\n",
       " (3+12j): 2,\n",
       " (4+12j): 6,\n",
       " (5+12j): 7,\n",
       " (6+12j): 4,\n",
       " (7+12j): 6,\n",
       " (8+12j): 5,\n",
       " (9+12j): 5,\n",
       " (10+12j): 5,\n",
       " (11+12j): 3,\n",
       " (12+12j): 3}"
      ]
     },
     "execution_count": 105,
     "metadata": {},
     "output_type": "execute_result"
    }
   ],
   "source": [
    "grid = {x+y*1j: int(c) for y, r in enumerate(open('../data/day_17.txt'))\n",
    "               for x, c in enumerate(r.strip())}\n",
    "grid"
   ]
  },
  {
   "cell_type": "code",
   "execution_count": null,
   "metadata": {},
   "outputs": [],
   "source": [
    "def count(todo):\n",
    "    done = set()\n",
    "    while todo:\n",
    "        p, d = todo.pop()\n",
    "        while not (p,d) in done:\n",
    "            done.add((p, d))\n",
    "            p += d\n",
    "            match grid.get(p):\n",
    "                case '\\\\': d = (d*-1j).conjugate()\n",
    "                case '/':  d = (d*1j).conjugate()\n",
    "                case '|':  d = 1j; todo.add((p, -1j))\n",
    "                case '-':  d = 1 ; todo.add((p, -1))\n",
    "                case None: break"
   ]
  },
  {
   "cell_type": "code",
   "execution_count": 74,
   "metadata": {},
   "outputs": [
    {
     "name": "stdout",
     "output_type": "stream",
     "text": [
      "in there\n"
     ]
    },
    {
     "data": {
      "text/plain": [
       "{(12, 12)}"
      ]
     },
     "execution_count": 74,
     "metadata": {},
     "output_type": "execute_result"
    }
   ],
   "source": [
    "last = set()\n",
    "\n",
    "last.add((int(len(grid)**0.5 - 1), int(len(grid)**0.5 - 1)))\n",
    "todo = set({(12, 12)})\n",
    "p, d = todo.pop()\n",
    "if (p, d) in last:\n",
    "    print('in there')\n"
   ]
  },
  {
   "cell_type": "code",
   "execution_count": 75,
   "metadata": {},
   "outputs": [
    {
     "name": "stdout",
     "output_type": "stream",
     "text": [
      "in there\n"
     ]
    }
   ],
   "source": [
    "end_dest = set()\n",
    "last_position = list(grid.items())[-1][0]\n",
    "row, col = int(last_position.real), int(last_position.imag)\n",
    "end_dest.add((row, col))\n"
   ]
  },
  {
   "cell_type": "code",
   "execution_count": 82,
   "metadata": {},
   "outputs": [],
   "source": [
    "def get_direction(cur_row, cur_col, prev_loc):\n",
    "    directions = {\n",
    "        (cur_row - 1, cur_col): 'down',\n",
    "        (cur_row + 1, cur_col): 'up',\n",
    "        (cur_row, cur_col - 1): 'right',\n",
    "        (cur_row, cur_col + 1): 'left'\n",
    "    }\n",
    "\n",
    "    for loc, direction in directions.items():\n",
    "        if loc in prev_loc:\n",
    "            return direction\n",
    "\n",
    "    return None"
   ]
  },
  {
   "cell_type": "code",
   "execution_count": 89,
   "metadata": {},
   "outputs": [
    {
     "name": "stdout",
     "output_type": "stream",
     "text": [
      "up\n"
     ]
    }
   ],
   "source": [
    "cur_row = -1\n",
    "cur_col = 0\n",
    "prev_loc = {(0, 0)}\n",
    "\n",
    "print(get_direction(cur_row, cur_col, prev_loc))"
   ]
  },
  {
   "cell_type": "code",
   "execution_count": null,
   "metadata": {},
   "outputs": [],
   "source": [
    "def get_direction(cur_row, cur_col, prev_loc):\n",
    "    directions = {\n",
    "        (cur_row - 1, cur_col): 'down',\n",
    "        (cur_row + 1, cur_col): 'up',\n",
    "        (cur_row, cur_col - 1): 'right',\n",
    "        (cur_row, cur_col + 1): 'left'\n",
    "    }\n",
    "\n",
    "    for loc, direction in directions.items():\n",
    "        if loc in prev_loc:\n",
    "            return direction\n",
    "\n",
    "    return None\n",
    "\n",
    "def count(todo):\n",
    "    done = set()\n",
    "    # Define end destination\n",
    "    last_position = list(grid.items())[-1][0]\n",
    "    row, col = int(last_position.real), int(last_position.imag)\n",
    "    done.add((row, col))\n",
    "\n",
    "    while todo:\n",
    "        cur_row, cur_col = todo.pop()\n",
    "\n",
    "        while not (cur_row,cur_col) in done:\n",
    "            prev_loc = set({(cur_row, cur_col)})\n",
    "            cur_row += cur_col\n",
    "            direction = get_direction(cur_row, cur_col, prev_loc)\n",
    "\n",
    "            match grid.get(cur_row):\n",
    "                case '\\\\': cur_col = (cur_col*-1j).conjugate()\n",
    "                case '/':  cur_col = (cur_col*1j).conjugate()\n",
    "                case '|':  cur_col = 1j; todo.add((cur_row, -1j))\n",
    "                case '-':  cur_col = 1 ; todo.add((cur_row, -1))\n",
    "                case None: break"
   ]
  },
  {
   "cell_type": "code",
   "execution_count": 99,
   "metadata": {},
   "outputs": [
    {
     "data": {
      "text/plain": [
       "12"
      ]
     },
     "execution_count": 99,
     "metadata": {},
     "output_type": "execute_result"
    }
   ],
   "source": [
    "last_position = list(grid.items())[-1][0]\n",
    "row, col = int(last_position.real), int(last_position.imag)\n"
   ]
  },
  {
   "cell_type": "code",
   "execution_count": 101,
   "metadata": {},
   "outputs": [
    {
     "name": "stdout",
     "output_type": "stream",
     "text": [
      "Destination: (12+12j)\n",
      "Todo: [(0, 0)]\n"
     ]
    },
    {
     "ename": "KeyError",
     "evalue": "(1, 0)",
     "output_type": "error",
     "traceback": [
      "\u001b[0;31m---------------------------------------------------------------------------\u001b[0m",
      "\u001b[0;31mKeyError\u001b[0m                                  Traceback (most recent call last)",
      "Cell \u001b[0;32mIn[101], line 52\u001b[0m\n\u001b[1;32m     48\u001b[0m             todo\u001b[38;5;241m.\u001b[39mpop()\n\u001b[1;32m     50\u001b[0m     \u001b[38;5;28;01mreturn\u001b[39;00m todo  \u001b[38;5;66;03m# Return the path\u001b[39;00m\n\u001b[0;32m---> 52\u001b[0m \u001b[38;5;28mprint\u001b[39m(\u001b[43mcount\u001b[49m\u001b[43m(\u001b[49m\u001b[43mgrid\u001b[49m\u001b[43m)\u001b[49m)\n",
      "Cell \u001b[0;32mIn[101], line 37\u001b[0m, in \u001b[0;36mcount\u001b[0;34m(grid)\u001b[0m\n\u001b[1;32m     35\u001b[0m next_cell \u001b[38;5;241m=\u001b[39m \u001b[38;5;28;01mNone\u001b[39;00m\n\u001b[1;32m     36\u001b[0m \u001b[38;5;28;01mfor\u001b[39;00m cell \u001b[38;5;129;01min\u001b[39;00m valid_adjacent_cells:\n\u001b[0;32m---> 37\u001b[0m     resistance \u001b[38;5;241m=\u001b[39m \u001b[43mgrid\u001b[49m\u001b[43m[\u001b[49m\u001b[43mcell\u001b[49m\u001b[43m]\u001b[49m\n\u001b[1;32m     38\u001b[0m     \u001b[38;5;28;01mif\u001b[39;00m resistance \u001b[38;5;241m<\u001b[39m min_resistance:\n\u001b[1;32m     39\u001b[0m         min_resistance \u001b[38;5;241m=\u001b[39m resistance\n",
      "\u001b[0;31mKeyError\u001b[0m: (1, 0)"
     ]
    }
   ],
   "source": [
    "def count(grid):\n",
    "    # Define end destination\n",
    "    destination = list(grid.items())[-1][0]\n",
    "    row_len, col_len = int(destination.real), int(destination.imag)\n",
    "    print('Destination:', destination)\n",
    "    todo = [(0, 0)]  # Starting position\n",
    "    print('Todo:', todo)\n",
    "    visited = set()\n",
    "    visited.add((0, 0))\n",
    "\n",
    "    while todo:\n",
    "        cur_row, cur_col = todo[-1]  # Current position\n",
    "        if (cur_row, cur_col) == destination:\n",
    "            # Reached destination\n",
    "            break\n",
    "\n",
    "        # Get adjacent cells\n",
    "        adjacent_cells = [\n",
    "            (cur_row - 1, cur_col),  # Up\n",
    "            (cur_row + 1, cur_col),  # Down\n",
    "            (cur_row, cur_col - 1),  # Left\n",
    "            (cur_row, cur_col + 1)   # Right\n",
    "        ]\n",
    "\n",
    "        # Filter valid adjacent cells\n",
    "        valid_adjacent_cells = [\n",
    "            cell for cell in adjacent_cells\n",
    "            if cell not in visited and\n",
    "               (len(todo) < 2 or cell != todo[-2])  # Exclude immediate previous cell if available\n",
    "               and 0 <= cell[0] < row_len and 0 <= cell[1] < col_len  # Check boundaries\n",
    "        ]\n",
    "\n",
    "        # Find the cell with the lowest resistance\n",
    "        min_resistance = float('inf')\n",
    "        next_cell = None\n",
    "        for cell in valid_adjacent_cells:\n",
    "            resistance = grid[cell]\n",
    "            if resistance < min_resistance:\n",
    "                min_resistance = resistance\n",
    "                next_cell = cell\n",
    "\n",
    "        if next_cell:\n",
    "            # Move to the cell with the lowest resistance\n",
    "            todo.append(next_cell)\n",
    "            visited.add(next_cell)\n",
    "        else:\n",
    "            # Backtrack\n",
    "            todo.pop()\n",
    "\n",
    "    return todo  # Return the path\n",
    "\n",
    "print(count(grid))"
   ]
  },
  {
   "cell_type": "code",
   "execution_count": null,
   "metadata": {},
   "outputs": [],
   "source": []
  }
 ],
 "metadata": {
  "kernelspec": {
   "display_name": "aoc2023",
   "language": "python",
   "name": "python3"
  },
  "language_info": {
   "codemirror_mode": {
    "name": "ipython",
    "version": 3
   },
   "file_extension": ".py",
   "mimetype": "text/x-python",
   "name": "python",
   "nbconvert_exporter": "python",
   "pygments_lexer": "ipython3",
   "version": "3.10.6"
  }
 },
 "nbformat": 4,
 "nbformat_minor": 2
}
