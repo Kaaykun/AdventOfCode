{
 "cells": [
  {
   "cell_type": "markdown",
   "metadata": {},
   "source": [
    "# First attempt\n"
   ]
  },
  {
   "cell_type": "code",
   "execution_count": 136,
   "metadata": {},
   "outputs": [],
   "source": [
    "import numpy as np"
   ]
  },
  {
   "cell_type": "code",
   "execution_count": 175,
   "metadata": {},
   "outputs": [],
   "source": [
    "def grid_size(dig_plan) -> tuple:\n",
    "    max_width, cur_width = 0, 0\n",
    "    max_height, cur_height = 0, 0\n",
    "\n",
    "    for line in dig_plan:\n",
    "        direction, distance = line[0], line[1]\n",
    "\n",
    "        if direction == 'R':\n",
    "            cur_width += distance\n",
    "        elif direction == 'L':\n",
    "            cur_width -= distance\n",
    "        elif direction == 'D':\n",
    "            cur_height += distance\n",
    "        elif direction == 'U':\n",
    "            cur_height -= distance\n",
    "\n",
    "        max_width = max(max_width + 1, cur_width + 1)\n",
    "        max_height = max(max_height + 1, cur_height + 1)\n",
    "\n",
    "    return (max_height, max_width)\n"
   ]
  },
  {
   "cell_type": "code",
   "execution_count": 183,
   "metadata": {},
   "outputs": [],
   "source": [
    "def transform_grid(grid, dig_plan):\n",
    "    current_position = [0, 0]  # Starting position\n",
    "\n",
    "    for direction, distance, _ in dig_plan:\n",
    "        if direction == 'R':\n",
    "            for i in range(distance):\n",
    "                grid[current_position[0], current_position[1] + i] = 9\n",
    "            current_position[1] += distance\n",
    "        elif direction == 'L':\n",
    "            for i in range(distance):\n",
    "                grid[current_position[0], current_position[1] - i] = 9\n",
    "            current_position[1] -= distance\n",
    "        elif direction == 'U':\n",
    "            for i in range(distance):\n",
    "                grid[current_position[0] - i, current_position[1]] = 9\n",
    "            current_position[0] -= distance\n",
    "        elif direction == 'D':\n",
    "            for i in range(distance):\n",
    "                grid[current_position[0] + i, current_position[1]] = 9\n",
    "            current_position[0] += distance\n",
    "\n",
    "    return grid"
   ]
  },
  {
   "cell_type": "code",
   "execution_count": 184,
   "metadata": {},
   "outputs": [],
   "source": [
    "def transform_encapsulated_zeros(grid):\n",
    "    updated_grid = grid.copy()  # Make a copy of the grid\n",
    "\n",
    "    # Iterate through each row\n",
    "    for i, row in enumerate(updated_grid):\n",
    "        start = None\n",
    "        end = None\n",
    "\n",
    "        # Identify encapsulated zeros\n",
    "        for j in range(len(row)):\n",
    "            if row[j] == 9:\n",
    "                if start is not None and end is not None:\n",
    "                    row[start+1:end+1] = 9  # Transform encapsulated zeros to nines\n",
    "                start = j\n",
    "            elif row[j] == 0 and start is not None:\n",
    "                end = j\n",
    "\n",
    "        # Handle the case where encapsulation occurs until the end of the row\n",
    "        if start is not None and end is not None and end != len(row) - 1:\n",
    "            row[start+1:end+1] = 9\n",
    "\n",
    "        # Update the grid row with encapsulated zeros transformed to nines\n",
    "        updated_grid[i] = row\n",
    "\n",
    "    return updated_grid"
   ]
  },
  {
   "cell_type": "code",
   "execution_count": 194,
   "metadata": {},
   "outputs": [
    {
     "name": "stdout",
     "output_type": "stream",
     "text": [
      "51728\n"
     ]
    }
   ],
   "source": [
    "with open('../data/day_18.txt') as f:\n",
    "    lines = f.read().splitlines()\n",
    "    dig_plan = [(line.split(' ')[0], int(line.split(' ')[1]), line.split(' ')[2]) for line in lines]\n",
    "\n",
    "# grid = np.zeros(grid_size(dig_plan), dtype=np.int8)\n",
    "grid = np.zeros((500, 500), dtype=np.int8)\n",
    "result_grid = transform_grid(grid, dig_plan)\n",
    "\n",
    "# for row in result_grid:\n",
    "#     print(''.join('#' if x == 9 else '.' for x in row))\n",
    "# print()\n",
    "\n",
    "updated_grid = transform_encapsulated_zeros(result_grid)\n",
    "\n",
    "# for row in updated_grid:\n",
    "#     print(''.join('#' if x == 9 else '.' for x in row))\n",
    "\n",
    "_, counts = np.unique(updated_grid, return_counts=True)\n",
    "print(counts[1])\n"
   ]
  },
  {
   "cell_type": "markdown",
   "metadata": {},
   "source": [
    "# Second attempt after some sleep"
   ]
  },
  {
   "cell_type": "code",
   "execution_count": 200,
   "metadata": {},
   "outputs": [
    {
     "name": "stdout",
     "output_type": "stream",
     "text": [
      "42317\n",
      "83605563360288\n"
     ]
    }
   ],
   "source": [
    "dig_plan = list(map(str.split, open('../data/day_18.txt')))\n",
    "\n",
    "mapping = {'R': (1,0), 'D': (0,1), 'L': (-1,0), 'U': (0,-1),\n",
    "           '0': (1,0), '1': (0,1), '2': (-1,0), '3': (0,-1)}\n",
    "\n",
    "\n",
    "\n",
    "def f(steps, cur_col=0, solution_tracker=1):\n",
    "    for (x,y), distance in steps:\n",
    "        cur_col += x*distance\n",
    "        solution_tracker += y*distance * cur_col + distance/2\n",
    "\n",
    "    return int(solution_tracker)\n",
    "\n",
    "print(f((mapping[direction], int(distance)) for direction, distance, _ in dig_plan))\n",
    "print(f((mapping[hexa[7]], int(hexa[2:7], 16)) for _,_,hexa in dig_plan))"
   ]
  },
  {
   "cell_type": "code",
   "execution_count": null,
   "metadata": {},
   "outputs": [],
   "source": []
  }
 ],
 "metadata": {
  "kernelspec": {
   "display_name": "aoc2023",
   "language": "python",
   "name": "python3"
  },
  "language_info": {
   "codemirror_mode": {
    "name": "ipython",
    "version": 3
   },
   "file_extension": ".py",
   "mimetype": "text/x-python",
   "name": "python",
   "nbconvert_exporter": "python",
   "pygments_lexer": "ipython3",
   "version": "3.10.6"
  }
 },
 "nbformat": 4,
 "nbformat_minor": 2
}
