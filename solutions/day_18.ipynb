{
 "cells": [
  {
   "cell_type": "code",
   "execution_count": 50,
   "metadata": {},
   "outputs": [],
   "source": [
    "import numpy as np"
   ]
  },
  {
   "cell_type": "code",
   "execution_count": 63,
   "metadata": {},
   "outputs": [
    {
     "data": {
      "text/plain": [
       "[('R', 6, '(#70c710)'),\n",
       " ('D', 5, '(#0dc571)'),\n",
       " ('L', 2, '(#5713f0)'),\n",
       " ('D', 2, '(#d2c081)'),\n",
       " ('R', 2, '(#59c680)'),\n",
       " ('D', 2, '(#411b91)'),\n",
       " ('L', 5, '(#8ceee2)'),\n",
       " ('U', 2, '(#caa173)'),\n",
       " ('L', 1, '(#1b58a2)'),\n",
       " ('U', 2, '(#caa171)'),\n",
       " ('R', 2, '(#7807d2)'),\n",
       " ('U', 3, '(#a77fa3)'),\n",
       " ('L', 2, '(#015232)'),\n",
       " ('U', 2, '(#7a21e3)')]"
      ]
     },
     "execution_count": 63,
     "metadata": {},
     "output_type": "execute_result"
    }
   ],
   "source": [
    "with open('../data/day_18.txt') as f:\n",
    "    lines = f.read().splitlines()\n",
    "    dig_plan = [(line.split(' ')[0], int(line.split(' ')[1]), line.split(' ')[2]) for line in lines]\n",
    "dig_plan"
   ]
  },
  {
   "cell_type": "code",
   "execution_count": 43,
   "metadata": {},
   "outputs": [],
   "source": [
    "def grid_size(dig_plan) -> tuple:\n",
    "    max_width, cur_width = 0, 0\n",
    "    max_height, cur_height = 0, 0\n",
    "\n",
    "    for line in dig_plan:\n",
    "        direction, distance = line[0], line[1]\n",
    "\n",
    "        if direction == 'R':\n",
    "            cur_width += distance\n",
    "        elif direction == 'L':\n",
    "            cur_width -= distance\n",
    "        elif direction == 'D':\n",
    "            cur_height += distance\n",
    "        elif direction == 'U':\n",
    "            cur_height -= distance\n",
    "\n",
    "        max_width = max(max_width, cur_width + 1)\n",
    "        max_height = max(max_height, cur_height + 1)\n",
    "\n",
    "    return (max_height, max_width)\n"
   ]
  },
  {
   "cell_type": "code",
   "execution_count": 103,
   "metadata": {},
   "outputs": [
    {
     "data": {
      "text/plain": [
       "7"
      ]
     },
     "execution_count": 103,
     "metadata": {},
     "output_type": "execute_result"
    }
   ],
   "source": [
    "grid = np.zeros(grid_size(dig_plan), dtype=np.int8)\n",
    "grid.shape[1]"
   ]
  },
  {
   "cell_type": "code",
   "execution_count": 108,
   "metadata": {},
   "outputs": [],
   "source": [
    "start_row = 0\n",
    "\n",
    "for line in dig_plan:\n",
    "    direction, distance = line[0], line[1]\n",
    "    start_col = 0\n",
    "    if direction == 'R':\n",
    "        for _ in range(1, distance):\n",
    "            grid[start_row][start_col] = 9\n",
    "            # if start_col != grid.shape[1]:\n",
    "            start_col += 1\n",
    "        start_row += 1\n"
   ]
  },
  {
   "cell_type": "code",
   "execution_count": 110,
   "metadata": {},
   "outputs": [
    {
     "data": {
      "text/plain": [
       "array([[9, 9, 9, 9, 9, 9, 9],\n",
       "       [9, 0, 0, 0, 0, 9, 0],\n",
       "       [9, 0, 0, 0, 0, 0, 9],\n",
       "       [0, 0, 0, 0, 0, 0, 0],\n",
       "       [0, 0, 0, 0, 0, 0, 0],\n",
       "       [0, 0, 0, 0, 0, 0, 0],\n",
       "       [0, 0, 0, 0, 0, 0, 0],\n",
       "       [0, 0, 0, 0, 0, 0, 0],\n",
       "       [0, 0, 0, 0, 0, 0, 0],\n",
       "       [0, 0, 0, 0, 0, 0, 0]], dtype=int8)"
      ]
     },
     "execution_count": 110,
     "metadata": {},
     "output_type": "execute_result"
    }
   ],
   "source": [
    "grid"
   ]
  },
  {
   "cell_type": "code",
   "execution_count": null,
   "metadata": {},
   "outputs": [],
   "source": []
  }
 ],
 "metadata": {
  "kernelspec": {
   "display_name": "aoc2023",
   "language": "python",
   "name": "python3"
  },
  "language_info": {
   "codemirror_mode": {
    "name": "ipython",
    "version": 3
   },
   "file_extension": ".py",
   "mimetype": "text/x-python",
   "name": "python",
   "nbconvert_exporter": "python",
   "pygments_lexer": "ipython3",
   "version": "3.10.6"
  }
 },
 "nbformat": 4,
 "nbformat_minor": 2
}
